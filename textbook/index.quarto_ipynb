{
  "cells": [
    {
      "cell_type": "markdown",
      "metadata": {},
      "source": [
        "# Preface {.unnumbered}\n",
        "\n",
        "\n",
        "This is the class textbook for the course \"Data Analysis and Visualization for Communication Science\" at the University of Zurich.\n",
        "\n",
        "As I am adapting this course to work online, I will be updating the book as I go along, so expect changes and updates.\n",
        "\n",
        "The book is written in Markdown and compiled using the Quarto toolchain. The source code is available on GitHub at <https://github.com/morleyjamesweston/data_viz_class_spring_2025>.\n",
        "\n",
        "## Contents{.unnumbered}\n",
        "\n",
        "\n",
        "\n",
        "\n",
        "\n",
        "\n",
        "\n",
        "\n",
        "```{tableofcontents}\n",
        "```\n",
        "\n",
        "\n",
        "\n",
        "\n",
        "\n",
        "\n",
        "\n",
        "\n",
        "___\n",
        "\n",
        "This is a Quarto book.\n",
        "\n",
        "To learn more about Quarto books visit <https://quarto.org/docs/books>.\n"
      ],
      "id": "d58b2c2d"
    }
  ],
  "metadata": {
    "kernelspec": {
      "display_name": "Python 3",
      "language": "python",
      "name": "python3"
    }
  },
  "nbformat": 4,
  "nbformat_minor": 5
}